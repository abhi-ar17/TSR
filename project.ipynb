{
  "nbformat": 4,
  "nbformat_minor": 0,
  "metadata": {
    "colab": {
      "name": "Untitled7.ipynb",
      "version": "0.3.2",
      "provenance": [],
      "collapsed_sections": [],
      "include_colab_link": true
    },
    "kernelspec": {
      "name": "python3",
      "display_name": "Python 3"
    },
    "accelerator": "GPU"
  },
  "cells": [
    {
      "cell_type": "markdown",
      "metadata": {
        "id": "view-in-github",
        "colab_type": "text"
      },
      "source": [
        "<a href=\"https://colab.research.google.com/github/abhi-ar17/TSR/blob/master/project.ipynb\" target=\"_parent\"><img src=\"https://colab.research.google.com/assets/colab-badge.svg\" alt=\"Open In Colab\"/></a>"
      ]
    },
    {
      "metadata": {
        "id": "jAveCdVQg9Ep",
        "colab_type": "code",
        "colab": {
          "base_uri": "https://localhost:8080/",
          "height": 245
        },
        "outputId": "f082ae79-7e3d-46fb-cfef-6082c5be0817"
      },
      "cell_type": "code",
      "source": [
        "# Image Classification\n",
        "\n",
        "# Import libraries\n",
        "from keras.models import Sequential\n",
        "from keras.layers import Conv2D\n",
        "from keras.layers import MaxPooling2D\n",
        "from keras.layers import GlobalAveragePooling2D\n",
        "from keras.layers import Dense\n",
        "\n",
        "# Initalize CNN\n",
        "classifier = Sequential()\n",
        "\n",
        "# Add 2 convolution layers\n",
        "classifier.add(Conv2D(filters=32, kernel_size=(3,3), input_shape=(64, 64, 3), activation='relu'))\n",
        "classifier.add(Conv2D(filters=32, kernel_size=(3,3), activation='relu'))\n",
        "\n",
        "# Add pooling layer\n",
        "classifier.add(MaxPooling2D(pool_size=(2,2)))\n",
        "\n",
        "# Add 2 more convolution layers\n",
        "classifier.add(Conv2D(filters=32, kernel_size=(3,3), activation='relu'))\n",
        "classifier.add(Conv2D(filters=32, kernel_size=(3,3), activation='relu'))\n",
        "\n",
        "# Add max pooling layer\n",
        "classifier.add(MaxPooling2D(pool_size=(2,2)))\n",
        "\n",
        "# Add 2 more convolution layers\n",
        "classifier.add(Conv2D(filters=32, kernel_size=(3,3), activation='relu'))\n",
        "classifier.add(Conv2D(filters=32, kernel_size=(3,3), activation='relu'))\n",
        "\n",
        "# Add max pooling layer\n",
        "classifier.add(MaxPooling2D(pool_size=(2,2)))\n",
        "\n",
        "# Add global average pooling layer\n",
        "classifier.add(GlobalAveragePooling2D())\n",
        "\n",
        "# Add full connection\n",
        "classifier.add(Dense(units=15, activation='softmax'))\n",
        "\n",
        "# Compiling the ANN\n",
        "classifier.compile(optimizer='adam', loss='categorical_crossentropy', metrics=['accuracy'])\n",
        "\n",
        "# Fit CNN to images\n",
        "from keras.preprocessing.image import ImageDataGenerator\n",
        "\n",
        "train_datagen = ImageDataGenerator(\n",
        "        rescale=1./255,\n",
        "        shear_range=0.2,\n",
        "        zoom_range=0.2,\n",
        "        horizontal_flip=True)\n",
        "\n",
        "test_datagen = ImageDataGenerator(rescale=1./255)\n",
        "\n",
        "train_set = train_datagen.flow_from_directory('fdtju/datasets',\n",
        "        target_size=(64, 64),\n",
        "        batch_size=32,\n",
        "        class_mode='categorical')\n",
        "\n",
        "test_set = test_datagen.flow_from_directory(\n",
        "        'sw/valid',\n",
        "        target_size=(64, 64),\n",
        "        batch_size=32,\n",
        "        class_mode='categorical')\n",
        "\n",
        "classifier.fit_generator(\n",
        "        train_set,\n",
        "        steps_per_epoch=100,\n",
        "        epochs=5,\n",
        "        validation_data=test_set,\n",
        "        validation_steps=40)\n",
        "\n",
        "classifier.save('model_categorical_complex.h5')\n",
        "\n",
        "# Test accuracy of classifier\n",
        "def test_accuracy(classifier, test_set, steps):\n",
        "    num_correct = 0\n",
        "    num_guesses = 0\n",
        "    for i in range(steps):\n",
        "        a = test_set.next()\n",
        "        guesses = classifier.predict(a[0])\n",
        "        correct = a[1]\n",
        "        for index in range(len(guesses)):\n",
        "            num_guesses += 1\n",
        "            if round(guesses[index][0]) == correct[index]:\n",
        "                num_correct += 1\n",
        "    return num_correct, num_guesses\n",
        "        "
      ],
      "execution_count": 43,
      "outputs": [
        {
          "output_type": "stream",
          "text": [
            "Found 11884 images belonging to 15 classes.\n",
            "Found 4308 images belonging to 15 classes.\n",
            "Epoch 1/5\n",
            "100/100 [==============================] - 18s 175ms/step - loss: 2.4924 - acc: 0.1366 - val_loss: 1.8087 - val_acc: 0.3430\n",
            "Epoch 2/5\n",
            "100/100 [==============================] - 16s 164ms/step - loss: 1.7287 - acc: 0.4109 - val_loss: 1.3319 - val_acc: 0.5898\n",
            "Epoch 3/5\n",
            "100/100 [==============================] - 15s 150ms/step - loss: 1.3643 - acc: 0.5456 - val_loss: 1.1778 - val_acc: 0.5516\n",
            "Epoch 4/5\n",
            "100/100 [==============================] - 15s 147ms/step - loss: 0.9764 - acc: 0.6759 - val_loss: 0.7029 - val_acc: 0.7666\n",
            "Epoch 5/5\n",
            "100/100 [==============================] - 16s 157ms/step - loss: 0.5403 - acc: 0.8319 - val_loss: 0.3347 - val_acc: 0.9133\n"
          ],
          "name": "stdout"
        }
      ]
    },
    {
      "metadata": {
        "id": "8HtvNn6SG_LM",
        "colab_type": "code",
        "colab": {}
      },
      "cell_type": "code",
      "source": [
        ""
      ],
      "execution_count": 0,
      "outputs": []
    },
    {
      "metadata": {
        "id": "MuatJpF3Gt5l",
        "colab_type": "code",
        "colab": {}
      },
      "cell_type": "code",
      "source": [
        ""
      ],
      "execution_count": 0,
      "outputs": []
    },
    {
      "metadata": {
        "id": "bXesHeLoEUFE",
        "colab_type": "code",
        "colab": {
          "base_uri": "https://localhost:8080/",
          "height": 34
        },
        "outputId": "5dccf8df-4ef2-4c3c-cf70-8665afec4ca3"
      },
      "cell_type": "code",
      "source": [
        "import cv2\n",
        "import tensorflow as tf\n",
        "\n",
        "DATADIR = \"fdtju/datasets\"\n",
        "\n",
        "CATEGORIES =[\"70\",\"50\",\"Cattle\",\"Narrow\",\"No_left\",\"No_Parking\",\"No_right\",\"No_stop\",\"Pedestrian\",\"school\",\"Stop\",\"Two\" ,\"Hump\", \"Men\",\"Noentry\"]\n",
        "\n",
        "def prepare(filepath):\n",
        "\tIMG_SIZE=64\n",
        "\timg_array = cv2.imread(filepath)\n",
        "\tnew_array = cv2.resize(img_array,(IMG_SIZE,IMG_SIZE))\n",
        "\treturn new_array.reshape(-1,IMG_SIZE,IMG_SIZE,3)\n",
        "\n",
        "model=tf.keras.models.load_model(\"model_categorical_complex.model\")\n",
        "\n",
        "prediction = model.predict([prepare('bcd.jpg')])\n",
        "\n",
        "print(prediction)"
      ],
      "execution_count": 80,
      "outputs": [
        {
          "output_type": "stream",
          "text": [
            "[[0. 0. 0. 0. 0. 0. 0. 0. 0. 0. 0. 1. 0. 0. 0.]]\n"
          ],
          "name": "stdout"
        }
      ]
    }
  ]
}